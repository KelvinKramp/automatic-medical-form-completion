{
  "nbformat": 4,
  "nbformat_minor": 0,
  "metadata": {
    "kernelspec": {
      "display_name": "Python 3",
      "language": "python",
      "name": "python3"
    },
    "language_info": {
      "codemirror_mode": {
        "name": "ipython",
        "version": 3
      },
      "file_extension": ".py",
      "mimetype": "text/x-python",
      "name": "python",
      "nbconvert_exporter": "python",
      "pygments_lexer": "ipython3",
      "version": "3.8.3"
    },
    "colab": {
      "name": "Tutorial filling in death declaration.ipynb",
      "provenance": [],
      "collapsed_sections": []
    }
  },
  "cells": [
    {
      "cell_type": "code",
      "metadata": {
        "colab": {
          "base_uri": "https://localhost:8080/"
        },
        "id": "4xEikNuH1Gl7",
        "outputId": "42e6c19c-1e9d-4b3e-9430-f439498056b9"
      },
      "source": [
        "# make selenium runnable in google colab:https://stackoverflow.com/questions/51046454/how-can-we-use-selenium-webdriver-in-colab-research-google-com \n",
        "!pip install selenium\n",
        "!apt-get update # to update ubuntu to correctly run apt install\n",
        "!apt install chromium-chromedriver\n",
        "!cp /usr/lib/chromium-browser/chromedriver /usr/bin\n",
        "import sys\n",
        "sys.path.insert(0,'/usr/lib/chromium-browser/chromedriver')\n",
        "from selenium import webdriver\n",
        "chrome_options = webdriver.ChromeOptions()\n",
        "chrome_options.add_argument('--headless')\n",
        "chrome_options.add_argument('--no-sandbox')\n",
        "chrome_options.add_argument('--disable-dev-shm-usage')\n",
        "wd = webdriver.Chrome('chromedriver',chrome_options=chrome_options)"
      ],
      "execution_count": 31,
      "outputs": [
        {
          "output_type": "stream",
          "text": [
            "Requirement already satisfied: selenium in /usr/local/lib/python3.6/dist-packages (3.141.0)\n",
            "Requirement already satisfied: urllib3 in /usr/local/lib/python3.6/dist-packages (from selenium) (1.24.3)\n",
            "Ign:1 https://developer.download.nvidia.com/compute/cuda/repos/ubuntu1804/x86_64  InRelease\n",
            "Hit:2 https://cloud.r-project.org/bin/linux/ubuntu bionic-cran40/ InRelease\n",
            "Ign:3 https://developer.download.nvidia.com/compute/machine-learning/repos/ubuntu1804/x86_64  InRelease\n",
            "Hit:4 https://developer.download.nvidia.com/compute/cuda/repos/ubuntu1804/x86_64  Release\n",
            "Hit:5 https://developer.download.nvidia.com/compute/machine-learning/repos/ubuntu1804/x86_64  Release\n",
            "Hit:6 http://security.ubuntu.com/ubuntu bionic-security InRelease\n",
            "Hit:8 http://archive.ubuntu.com/ubuntu bionic InRelease\n",
            "Hit:9 http://ppa.launchpad.net/c2d4u.team/c2d4u4.0+/ubuntu bionic InRelease\n",
            "Hit:10 http://archive.ubuntu.com/ubuntu bionic-updates InRelease\n",
            "Hit:12 http://archive.ubuntu.com/ubuntu bionic-backports InRelease\n",
            "Hit:13 http://ppa.launchpad.net/cran/libgit2/ubuntu bionic InRelease\n",
            "Hit:14 http://ppa.launchpad.net/graphics-drivers/ppa/ubuntu bionic InRelease\n",
            "Reading package lists... Done\n",
            "Reading package lists... Done\n",
            "Building dependency tree       \n",
            "Reading state information... Done\n",
            "chromium-chromedriver is already the newest version (87.0.4280.66-0ubuntu0.18.04.1).\n",
            "0 upgraded, 0 newly installed, 0 to remove and 33 not upgraded.\n",
            "cp: '/usr/lib/chromium-browser/chromedriver' and '/usr/bin/chromedriver' are the same file\n"
          ],
          "name": "stdout"
        },
        {
          "output_type": "stream",
          "text": [
            "/usr/local/lib/python3.6/dist-packages/ipykernel_launcher.py:12: DeprecationWarning: use options instead of chrome_options\n",
            "  if sys.path[0] == '':\n"
          ],
          "name": "stderr"
        }
      ]
    },
    {
      "cell_type": "code",
      "metadata": {
        "colab": {
          "base_uri": "https://localhost:8080/"
        },
        "id": "LpNfOPP-1H8M",
        "outputId": "e52f4bcc-62bd-44e1-8221-204ca4e3e0fb"
      },
      "source": [
        "# Install pip packages in the current Jupyter kernel \n",
        "# https://jakevdp.github.io/blog/2017/12/05/installing-python-packages-from-jupyter/\n",
        "import sys\n",
        "!{sys.executable} -m pip install pandas\n",
        "!{sys.executable} -m pip install xlml\n",
        "!{sys.executable} -m pip install reportlab\n"
      ],
      "execution_count": 32,
      "outputs": [
        {
          "output_type": "stream",
          "text": [
            "Requirement already satisfied: pandas in /usr/local/lib/python3.6/dist-packages (1.1.5)\n",
            "Requirement already satisfied: python-dateutil>=2.7.3 in /usr/local/lib/python3.6/dist-packages (from pandas) (2.8.1)\n",
            "Requirement already satisfied: numpy>=1.15.4 in /usr/local/lib/python3.6/dist-packages (from pandas) (1.19.5)\n",
            "Requirement already satisfied: pytz>=2017.2 in /usr/local/lib/python3.6/dist-packages (from pandas) (2018.9)\n",
            "Requirement already satisfied: six>=1.5 in /usr/local/lib/python3.6/dist-packages (from python-dateutil>=2.7.3->pandas) (1.15.0)\n",
            "\u001b[31mERROR: Could not find a version that satisfies the requirement xlml (from versions: none)\u001b[0m\n",
            "\u001b[31mERROR: No matching distribution found for xlml\u001b[0m\n",
            "Requirement already satisfied: reportlab in /usr/local/lib/python3.6/dist-packages (3.5.59)\n",
            "Requirement already satisfied: pillow>=4.0.0 in /usr/local/lib/python3.6/dist-packages (from reportlab) (7.0.0)\n"
          ],
          "name": "stdout"
        }
      ]
    },
    {
      "cell_type": "markdown",
      "metadata": {
        "id": "-NK5z7Y4ylui"
      },
      "source": [
        "Import necessary modules"
      ]
    },
    {
      "cell_type": "code",
      "metadata": {
        "id": "RAvMYB1cylui"
      },
      "source": [
        "#import modules \n",
        "from selenium import webdriver\n",
        "import pandas as pd\n",
        "from reportlab.pdfgen import canvas\n",
        "from reportlab.lib.pagesizes import A4\n",
        "from reportlab.lib.units import cm\n",
        "from datetime import datetime"
      ],
      "execution_count": 33,
      "outputs": []
    },
    {
      "cell_type": "markdown",
      "metadata": {
        "id": "CyJTXbk9ylui"
      },
      "source": [
        "First step is going to the electronic patient file with a web application.  We are gonna use selenium and chrome for that. We first a webbrowser with selenium and go to the right page."
      ]
    },
    {
      "cell_type": "code",
      "metadata": {
        "id": "CyDzoQ5Tyluj"
      },
      "source": [
        "driver = wd\n",
        "driver.get(\"https://medicalprogress.dev/patient_file/\")"
      ],
      "execution_count": 34,
      "outputs": []
    },
    {
      "cell_type": "markdown",
      "metadata": {
        "id": "yLEipAEVyluj"
      },
      "source": [
        "Next we are gonna download the html code and read the table with pandas read_html function"
      ]
    },
    {
      "cell_type": "code",
      "metadata": {
        "id": "lEBEJq-pyluj"
      },
      "source": [
        "html = driver.page_source\n",
        "data = pd.read_html(html) #needs lxml to work, make first row the header"
      ],
      "execution_count": 35,
      "outputs": []
    },
    {
      "cell_type": "markdown",
      "metadata": {
        "id": "hS-g-1hiyluj"
      },
      "source": [
        "Close the browser"
      ]
    },
    {
      "cell_type": "code",
      "metadata": {
        "id": "V9VxH2vMyluj"
      },
      "source": [
        "driver.close()"
      ],
      "execution_count": 36,
      "outputs": []
    },
    {
      "cell_type": "markdown",
      "metadata": {
        "id": "-JNrHULpyluk"
      },
      "source": [
        "We have to clean the data a little bit to make it into a dataframe (list->first item list (table)-> pandas dataframe)"
      ]
    },
    {
      "cell_type": "code",
      "metadata": {
        "id": "t0rMskpLyluk"
      },
      "source": [
        "data = data[0]\n",
        "df = pd.DataFrame(data)"
      ],
      "execution_count": 37,
      "outputs": []
    },
    {
      "cell_type": "markdown",
      "metadata": {
        "id": "nDg7l3CYyluk"
      },
      "source": [
        "Make a list of variables from the dataframe for printing on pdf"
      ]
    },
    {
      "cell_type": "code",
      "metadata": {
        "id": "BUoaEkE6yluk"
      },
      "source": [
        "name = df.iloc[0,1]\n",
        "first_name = df.iloc[1,1]\n",
        "gender = df.iloc[2,1]\n",
        "birthdate = df.iloc[3,1]\n",
        "birth_date_place = df.iloc[4,1]\n",
        "location = df.iloc[5,1]\n",
        "address = df.iloc[6,1]\n",
        "postal_code = df.iloc[7,1]\n",
        "place = df.iloc[5,1]"
      ],
      "execution_count": 38,
      "outputs": []
    },
    {
      "cell_type": "markdown",
      "metadata": {
        "id": "JQAFxI17yluk"
      },
      "source": [
        "Create variables with you personal information"
      ]
    },
    {
      "cell_type": "code",
      "metadata": {
        "id": "m7bVSpI3ylul"
      },
      "source": [
        "MD = \"I.M.You\"\n",
        "specialty = \"SuperDoc!\""
      ],
      "execution_count": 39,
      "outputs": []
    },
    {
      "cell_type": "markdown",
      "metadata": {
        "id": "-6RxPNloylul"
      },
      "source": [
        "Create a marking variable for the answers on the pdf"
      ]
    },
    {
      "cell_type": "code",
      "metadata": {
        "id": "4OrpN67_ylul"
      },
      "source": [
        "answer = \"x\""
      ],
      "execution_count": 40,
      "outputs": []
    },
    {
      "cell_type": "markdown",
      "metadata": {
        "id": "yiyx23jWylul"
      },
      "source": [
        "Get time of death"
      ]
    },
    {
      "cell_type": "code",
      "metadata": {
        "colab": {
          "base_uri": "https://localhost:8080/"
        },
        "id": "_MgMCyf2ylul",
        "outputId": "197557f5-82f9-4dc8-9abf-a84299fce11d"
      },
      "source": [
        "time_value = input(\"what is the time of death?\")"
      ],
      "execution_count": 41,
      "outputs": [
        {
          "output_type": "stream",
          "text": [
            "what is the time of death?3 oclock\n"
          ],
          "name": "stdout"
        }
      ]
    },
    {
      "cell_type": "markdown",
      "metadata": {
        "id": "rZOCe6Ikylum"
      },
      "source": [
        "Create a canvas for writing on with the file name \"deat_certificate.pdf\""
      ]
    },
    {
      "cell_type": "code",
      "metadata": {
        "id": "NQoQ2aKuylum"
      },
      "source": [
        "canvas = canvas.Canvas\n",
        "path_pdf = \"death_certificate.pdf\"\n",
        "c = canvas(path_pdf)"
      ],
      "execution_count": 42,
      "outputs": []
    },
    {
      "cell_type": "markdown",
      "metadata": {
        "id": "A1vCgs9dylum"
      },
      "source": [
        "Create a background variable with first page of decleration form and draw it on the canvas (try to open de file as a check to see if you get the first page of the death decleration form)"
      ]
    },
    {
      "cell_type": "code",
      "metadata": {
        "colab": {
          "base_uri": "https://localhost:8080/"
        },
        "id": "1Rckl-h9ylum",
        "outputId": "f0a7dc2c-8300-49d2-a43e-67fe3e89848e"
      },
      "source": [
        "background = \"https://medicalprogress.dev/patient_file/Form_B1.jpg\"\n",
        "draw_width, draw_height = A4\n",
        "c.drawImage(background, 0, 0, width=draw_width, height=draw_height)"
      ],
      "execution_count": 43,
      "outputs": [
        {
          "output_type": "execute_result",
          "data": {
            "text/plain": [
              "(1240, 1754)"
            ]
          },
          "metadata": {
            "tags": []
          },
          "execution_count": 43
        }
      ]
    },
    {
      "cell_type": "markdown",
      "metadata": {
        "id": "u7QDabVGylun"
      },
      "source": [
        "Write text on form B1"
      ]
    },
    {
      "cell_type": "code",
      "metadata": {
        "id": "qzuPAwMzylun"
      },
      "source": [
        "c.drawString(1.9 * cm, 25.7 * cm, place)\n",
        "c.drawString(1.9 * cm, 23.3 * cm, answer)\n",
        "c.drawString(1.9 * cm, 20.5 * cm, answer)\n",
        "if gender == \"Male\":\n",
        "    c.drawString(1.9 * cm, 13.3 * cm, answer)\n",
        "else:\n",
        "    c.drawString(1.9 * cm, 12.8 * cm, answer)\n",
        "c.drawString(1.9 * cm, 11.3 * cm, answer)\n",
        "birthdate_without_dash = birthdate.replace(\"-\", \" \")\n",
        "textobject = c.beginText(4.3 * cm, 10.3 * cm)\n",
        "textobject.setCharSpace(6.3)\n",
        "textobject.textLine(birthdate_without_dash)\n",
        "c.drawText(textobject)\n",
        "textobject = c.beginText(4.3 * cm, 9.0 * cm)\n",
        "textobject.setCharSpace(6.3)\n",
        "textobject.textLine(datetime.now().strftime(\"%d %m %Y\"))\n",
        "c.drawText(textobject)"
      ],
      "execution_count": 44,
      "outputs": []
    },
    {
      "cell_type": "markdown",
      "metadata": {
        "id": "7XUXf35lylun"
      },
      "source": [
        "Go to next page "
      ]
    },
    {
      "cell_type": "code",
      "metadata": {
        "id": "uVT1bvtgylun"
      },
      "source": [
        "c.showPage()"
      ],
      "execution_count": 45,
      "outputs": []
    },
    {
      "cell_type": "markdown",
      "metadata": {
        "id": "gcJTAQKbylun"
      },
      "source": [
        "Write text on form B2"
      ]
    },
    {
      "cell_type": "code",
      "metadata": {
        "colab": {
          "base_uri": "https://localhost:8080/"
        },
        "id": "gYDxw9weylun",
        "outputId": "cc77c82e-5369-4cda-ec2e-157737c0c782"
      },
      "source": [
        "background = \"https://medicalprogress.dev/patient_file/Form_B2.jpg\"\n",
        "draw_width, draw_height = A4\n",
        "c.drawImage(background, 0, 0, width=draw_width, height=draw_height)"
      ],
      "execution_count": 46,
      "outputs": [
        {
          "output_type": "execute_result",
          "data": {
            "text/plain": [
              "(1240, 1754)"
            ]
          },
          "metadata": {
            "tags": []
          },
          "execution_count": 46
        }
      ]
    },
    {
      "cell_type": "code",
      "metadata": {
        "id": "clOW9cTSyluo"
      },
      "source": [
        "c.drawString(3.0 * cm, 12.6 * cm, MD)\n",
        "c.drawString(3.0 * cm, 11.9 * cm, location)\n",
        "c.drawString(3.0 * cm, 11.1 * cm, specialty)\n",
        "c.drawString(3.0 * cm, 10.4 * cm, address)\n",
        "c.drawString(6.0 * cm, 9.6 * cm, place)\n",
        "c.drawString(2.8 * cm, 7.0 * cm, answer)\n",
        "c.drawString(12.5 * cm, 12.6 * cm, \"Specialist\")\n",
        "c.drawString(12.5 * cm, 11.9 * cm, \"See on the left\")\n",
        "textobject = c.beginText(2.9 * cm, 9.6 * cm)\n",
        "textobject.setCharSpace(3.8)\n",
        "textobject.textLine(postal_code)\n",
        "c.drawText(textobject)\n",
        "c.drawString(11.5 * cm, 7.3 * cm, datetime.now().strftime(\"%d %m %y\"))\n",
        "c.showPage()"
      ],
      "execution_count": 47,
      "outputs": []
    },
    {
      "cell_type": "markdown",
      "metadata": {
        "id": "PXho4mZyyluo"
      },
      "source": [
        "Write text on form A"
      ]
    },
    {
      "cell_type": "code",
      "metadata": {
        "colab": {
          "base_uri": "https://localhost:8080/"
        },
        "id": "aq96xQNryluo",
        "outputId": "b9a55f5d-c40e-40e8-94fb-1ac813905398"
      },
      "source": [
        "background = \"https://medicalprogress.dev/patient_file/Form_A.jpg\"\n",
        "draw_width, draw_height = A4\n",
        "c.drawImage(background, 0, 0, width=draw_width, height=draw_height)"
      ],
      "execution_count": 48,
      "outputs": [
        {
          "output_type": "execute_result",
          "data": {
            "text/plain": [
              "(1240, 1754)"
            ]
          },
          "metadata": {
            "tags": []
          },
          "execution_count": 48
        }
      ]
    },
    {
      "cell_type": "code",
      "metadata": {
        "id": "kM-zhhjKyluo"
      },
      "source": [
        "c.drawString(3.5 * cm, 22.9 * cm, MD)\n",
        "c.drawString(3.5 * cm, 21.8 * cm, place)\n",
        "c.drawString(5.3 * cm, 19.5 * cm, name)\n",
        "c.drawString(5.3 * cm, 18.4 * cm, first_name)\n",
        "c.drawString(7.3 * cm, 17.2 * cm, birthdate + \" \" + birth_date_place)\n",
        "c.drawString(7.3 * cm, 15.5 * cm, datetime.now().strftime(\"%d-%m-%Y\"))\n",
        "c.drawString(10.3 * cm, 15.5 * cm, place)\n",
        "c.drawString(7.3 * cm, 14.4 * cm, time_value)\n",
        "c.drawString(3.5 * cm, 4.0 * cm, datetime.now().strftime(\"%d-%m-%Y\"))"
      ],
      "execution_count": 49,
      "outputs": []
    },
    {
      "cell_type": "markdown",
      "metadata": {
        "id": "PrQWkFT6yluo"
      },
      "source": [
        "Save forms"
      ]
    },
    {
      "cell_type": "code",
      "metadata": {
        "id": "rDt0tOizyluo"
      },
      "source": [
        "c.save()"
      ],
      "execution_count": 50,
      "outputs": []
    },
    {
      "cell_type": "code",
      "metadata": {
        "colab": {
          "base_uri": "https://localhost:8080/"
        },
        "id": "KAfVFP8Dylup",
        "outputId": "e70b78ff-10a3-4fd2-d99e-09d9ed60aad3"
      },
      "source": [
        "import os\n",
        "os.remove(\"death_certificate.pdf\")\n",
        "print(\"File Removed!\")"
      ],
      "execution_count": 51,
      "outputs": [
        {
          "output_type": "stream",
          "text": [
            "File Removed!\n"
          ],
          "name": "stdout"
        }
      ]
    }
  ]
}
