{
 "cells": [
  {
   "cell_type": "code",
   "execution_count": 1,
   "metadata": {},
   "outputs": [],
   "source": [
    "# Install pip packages in the current Jupyter kernel \n",
    "# https://jakevdp.github.io/blog/2017/12/05/installing-python-packages-from-jupyter/\n",
    "# import sys\n",
    "# !{sys.executable} -m pip install selenium\n",
    "# !{sys.executable} -m pip install pandas\n",
    "# !{sys.executable} -m pip install xlml\n",
    "# !{sys.executable} -m pip install reportlab\n"
   ]
  },
  {
   "cell_type": "markdown",
   "metadata": {},
   "source": [
    "Import necessary modules"
   ]
  },
  {
   "cell_type": "code",
   "execution_count": 2,
   "metadata": {},
   "outputs": [],
   "source": [
    "#import modules \n",
    "from selenium import webdriver\n",
    "import pandas as pd\n",
    "from reportlab.pdfgen import canvas\n",
    "from reportlab.lib.pagesizes import A4\n",
    "from reportlab.lib.units import cm\n",
    "from datetime import datetime"
   ]
  },
  {
   "cell_type": "markdown",
   "metadata": {},
   "source": [
    "First step is going to the electronic patient file with a web application.  We are gonna use selenium and chrome for that. We first a webbrowser with selenium and go to the right page."
   ]
  },
  {
   "cell_type": "code",
   "execution_count": null,
   "metadata": {},
   "outputs": [],
   "source": []
  },
  {
   "cell_type": "code",
   "execution_count": 3,
   "metadata": {},
   "outputs": [],
   "source": [
    "driver = webdriver.Chrome()\n",
    "driver.get(\"https://medicalprogress.dev/patient_file/\")"
   ]
  },
  {
   "cell_type": "markdown",
   "metadata": {},
   "source": [
    "Next we are gonna download the html code and read the table with pandas read_html function"
   ]
  },
  {
   "cell_type": "code",
   "execution_count": 4,
   "metadata": {},
   "outputs": [],
   "source": [
    "html = driver.page_source\n",
    "data = pd.read_html(html) #needs lxml to work, make first row the header"
   ]
  },
  {
   "cell_type": "markdown",
   "metadata": {},
   "source": [
    "Close the browser"
   ]
  },
  {
   "cell_type": "code",
   "execution_count": 5,
   "metadata": {},
   "outputs": [],
   "source": [
    "driver.close()"
   ]
  },
  {
   "cell_type": "markdown",
   "metadata": {},
   "source": [
    "We have to clean the data a little bit to make it into a dataframe (list->first item list (table)-> pandas dataframe)"
   ]
  },
  {
   "cell_type": "code",
   "execution_count": 6,
   "metadata": {},
   "outputs": [],
   "source": [
    "data = data[0]\n",
    "df = pd.DataFrame(data)"
   ]
  },
  {
   "cell_type": "markdown",
   "metadata": {},
   "source": [
    "Make a list of variables from the dataframe for printing on pdf"
   ]
  },
  {
   "cell_type": "code",
   "execution_count": 7,
   "metadata": {},
   "outputs": [],
   "source": [
    "name = df.iloc[0,1]\n",
    "first_name = df.iloc[1,1]\n",
    "gender = df.iloc[2,1]\n",
    "birthdate = df.iloc[3,1]\n",
    "birth_date_place = df.iloc[4,1]\n",
    "location = df.iloc[5,1]\n",
    "address = df.iloc[6,1]\n",
    "postal_code = df.iloc[7,1]\n",
    "place = df.iloc[5,1]"
   ]
  },
  {
   "cell_type": "markdown",
   "metadata": {},
   "source": [
    "Create variables with you personal information"
   ]
  },
  {
   "cell_type": "code",
   "execution_count": 8,
   "metadata": {},
   "outputs": [],
   "source": [
    "MD = \"K.H.Kramp\"\n",
    "specialty = \"Specialty\""
   ]
  },
  {
   "cell_type": "markdown",
   "metadata": {},
   "source": [
    "Create a marking variable for the answers on the pdf"
   ]
  },
  {
   "cell_type": "code",
   "execution_count": 9,
   "metadata": {},
   "outputs": [],
   "source": [
    "answer = \"x\""
   ]
  },
  {
   "cell_type": "markdown",
   "metadata": {},
   "source": [
    "Get time of death"
   ]
  },
  {
   "cell_type": "code",
   "execution_count": 10,
   "metadata": {},
   "outputs": [
    {
     "name": "stdout",
     "output_type": "stream",
     "text": [
      "what is the time of death?03:25 AM\n"
     ]
    }
   ],
   "source": [
    "time_value = input(\"what is the time of death?\")"
   ]
  },
  {
   "cell_type": "markdown",
   "metadata": {},
   "source": [
    "Create a canvas for writing on with the file name \"deat_certificate.pdf\""
   ]
  },
  {
   "cell_type": "code",
   "execution_count": 11,
   "metadata": {},
   "outputs": [],
   "source": [
    "canvas = canvas.Canvas\n",
    "path_pdf = \"death_certificate.pdf\"\n",
    "c = canvas(path_pdf)"
   ]
  },
  {
   "cell_type": "markdown",
   "metadata": {},
   "source": [
    "Create a background variable with first page of decleration form and draw it on the canvas (try to open de file as a check to see if you get the first page of the death decleration form)"
   ]
  },
  {
   "cell_type": "code",
   "execution_count": 12,
   "metadata": {},
   "outputs": [
    {
     "data": {
      "text/plain": [
       "(1240, 1754)"
      ]
     },
     "execution_count": 12,
     "metadata": {},
     "output_type": "execute_result"
    }
   ],
   "source": [
    "background = \"https://medicalprogress.dev/patient_file/Form_B1.jpg\"\n",
    "draw_width, draw_height = A4\n",
    "c.drawImage(background, 0, 0, width=draw_width, height=draw_height)"
   ]
  },
  {
   "cell_type": "markdown",
   "metadata": {},
   "source": [
    "Write text on form B1"
   ]
  },
  {
   "cell_type": "code",
   "execution_count": 13,
   "metadata": {},
   "outputs": [],
   "source": [
    "c.drawString(1.9 * cm, 25.7 * cm, place)\n",
    "c.drawString(1.9 * cm, 23.3 * cm, answer)\n",
    "c.drawString(1.9 * cm, 20.5 * cm, answer)\n",
    "if gender == \"Male\":\n",
    "    c.drawString(1.9 * cm, 13.3 * cm, answer)\n",
    "else:\n",
    "    c.drawString(1.9 * cm, 12.8 * cm, answer)\n",
    "c.drawString(1.9 * cm, 11.3 * cm, answer)\n",
    "birthdate_without_dash = birthdate.replace(\"-\", \" \")\n",
    "textobject = c.beginText(4.3 * cm, 10.3 * cm)\n",
    "textobject.setCharSpace(6.3)\n",
    "textobject.textLine(birthdate_without_dash)\n",
    "c.drawText(textobject)\n",
    "textobject = c.beginText(4.3 * cm, 9.0 * cm)\n",
    "textobject.setCharSpace(6.3)\n",
    "textobject.textLine(datetime.now().strftime(\"%d %m %Y\"))\n",
    "c.drawText(textobject)"
   ]
  },
  {
   "cell_type": "markdown",
   "metadata": {},
   "source": [
    "Go to next page "
   ]
  },
  {
   "cell_type": "code",
   "execution_count": 14,
   "metadata": {},
   "outputs": [],
   "source": [
    "c.showPage()"
   ]
  },
  {
   "cell_type": "markdown",
   "metadata": {},
   "source": [
    "Write text on form B2"
   ]
  },
  {
   "cell_type": "code",
   "execution_count": 15,
   "metadata": {},
   "outputs": [
    {
     "data": {
      "text/plain": [
       "(1240, 1754)"
      ]
     },
     "execution_count": 15,
     "metadata": {},
     "output_type": "execute_result"
    }
   ],
   "source": [
    "background = \"https://medicalprogress.dev/patient_file/Form_B2.jpg\"\n",
    "draw_width, draw_height = A4\n",
    "c.drawImage(background, 0, 0, width=draw_width, height=draw_height)"
   ]
  },
  {
   "cell_type": "code",
   "execution_count": 16,
   "metadata": {},
   "outputs": [],
   "source": [
    "c.drawString(3.0 * cm, 12.6 * cm, MD)\n",
    "c.drawString(3.0 * cm, 11.9 * cm, location)\n",
    "c.drawString(3.0 * cm, 11.1 * cm, specialty)\n",
    "c.drawString(3.0 * cm, 10.4 * cm, address)\n",
    "c.drawString(6.0 * cm, 9.6 * cm, place)\n",
    "c.drawString(2.8 * cm, 7.0 * cm, answer)\n",
    "c.drawString(12.5 * cm, 12.6 * cm, \"Specialist\")\n",
    "c.drawString(12.5 * cm, 11.9 * cm, \"See on the left\")\n",
    "textobject = c.beginText(2.9 * cm, 9.6 * cm)\n",
    "textobject.setCharSpace(3.8)\n",
    "textobject.textLine(postal_code)\n",
    "c.drawText(textobject)\n",
    "c.drawString(11.5 * cm, 7.3 * cm, datetime.now().strftime(\"%d %m %y\"))\n",
    "c.showPage()"
   ]
  },
  {
   "cell_type": "markdown",
   "metadata": {},
   "source": [
    "Write text on form A"
   ]
  },
  {
   "cell_type": "code",
   "execution_count": 17,
   "metadata": {},
   "outputs": [
    {
     "data": {
      "text/plain": [
       "(1240, 1754)"
      ]
     },
     "execution_count": 17,
     "metadata": {},
     "output_type": "execute_result"
    }
   ],
   "source": [
    "background = \"https://medicalprogress.dev/patient_file/Form_A.jpg\"\n",
    "draw_width, draw_height = A4\n",
    "c.drawImage(background, 0, 0, width=draw_width, height=draw_height)"
   ]
  },
  {
   "cell_type": "code",
   "execution_count": 18,
   "metadata": {},
   "outputs": [],
   "source": [
    "c.drawString(3.5 * cm, 22.9 * cm, MD)\n",
    "c.drawString(3.5 * cm, 21.8 * cm, place)\n",
    "c.drawString(5.3 * cm, 19.5 * cm, name)\n",
    "c.drawString(5.3 * cm, 18.4 * cm, first_name)\n",
    "c.drawString(7.3 * cm, 17.2 * cm, birthdate + \" \" + birth_date_place)\n",
    "c.drawString(7.3 * cm, 15.5 * cm, datetime.now().strftime(\"%d-%m-%Y\"))\n",
    "c.drawString(10.3 * cm, 15.5 * cm, place)\n",
    "c.drawString(7.3 * cm, 14.4 * cm, time_value)\n",
    "c.drawString(3.5 * cm, 4.0 * cm, datetime.now().strftime(\"%d-%m-%Y\"))"
   ]
  },
  {
   "cell_type": "markdown",
   "metadata": {},
   "source": [
    "Save forms"
   ]
  },
  {
   "cell_type": "code",
   "execution_count": 19,
   "metadata": {},
   "outputs": [],
   "source": [
    "c.save()"
   ]
  },
  {
   "cell_type": "code",
   "execution_count": null,
   "metadata": {},
   "outputs": [],
   "source": []
  }
 ],
 "metadata": {
  "kernelspec": {
   "display_name": "Python 3",
   "language": "python",
   "name": "python3"
  },
  "language_info": {
   "codemirror_mode": {
    "name": "ipython",
    "version": 3
   },
   "file_extension": ".py",
   "mimetype": "text/x-python",
   "name": "python",
   "nbconvert_exporter": "python",
   "pygments_lexer": "ipython3",
   "version": "3.8.3"
  }
 },
 "nbformat": 4,
 "nbformat_minor": 4
}
